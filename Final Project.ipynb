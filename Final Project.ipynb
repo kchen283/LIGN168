{
 "cells": [
  {
   "cell_type": "code",
   "execution_count": 6,
   "metadata": {},
   "outputs": [
    {
     "ename": "ImportError",
     "evalue": "C extension: pandas.util.version not built. If you want to import pandas from the source directory, you may need to run 'python setup.py build_ext' to build the C extensions first.",
     "output_type": "error",
     "traceback": [
      "\u001b[0;31m---------------------------------------------------------------------------\u001b[0m",
      "\u001b[0;31mImportError\u001b[0m                               Traceback (most recent call last)",
      "File \u001b[0;32m~/anaconda3/envs/LIGN168v2/lib/python3.11/site-packages/pandas/__init__.py:26\u001b[0m\n\u001b[1;32m     24\u001b[0m \u001b[38;5;28;01mtry\u001b[39;00m:\n\u001b[1;32m     25\u001b[0m     \u001b[38;5;66;03m# numpy compat\u001b[39;00m\n\u001b[0;32m---> 26\u001b[0m     \u001b[38;5;28;01mfrom\u001b[39;00m \u001b[38;5;21;01mpandas\u001b[39;00m\u001b[38;5;21;01m.\u001b[39;00m\u001b[38;5;21;01mcompat\u001b[39;00m \u001b[38;5;28;01mimport\u001b[39;00m (\n\u001b[1;32m     27\u001b[0m         is_numpy_dev \u001b[38;5;28;01mas\u001b[39;00m _is_numpy_dev,  \u001b[38;5;66;03m# pyright: ignore[reportUnusedImport] # noqa: F401\u001b[39;00m\n\u001b[1;32m     28\u001b[0m     )\n\u001b[1;32m     29\u001b[0m \u001b[38;5;28;01mexcept\u001b[39;00m \u001b[38;5;167;01mImportError\u001b[39;00m \u001b[38;5;28;01mas\u001b[39;00m _err:  \u001b[38;5;66;03m# pragma: no cover\u001b[39;00m\n",
      "File \u001b[0;32m~/anaconda3/envs/LIGN168v2/lib/python3.11/site-packages/pandas/compat/__init__.py:26\u001b[0m\n\u001b[1;32m     25\u001b[0m \u001b[38;5;28;01mimport\u001b[39;00m \u001b[38;5;21;01mpandas\u001b[39;00m\u001b[38;5;21;01m.\u001b[39;00m\u001b[38;5;21;01mcompat\u001b[39;00m\u001b[38;5;21;01m.\u001b[39;00m\u001b[38;5;21;01mcompressors\u001b[39;00m\n\u001b[0;32m---> 26\u001b[0m \u001b[38;5;28;01mfrom\u001b[39;00m \u001b[38;5;21;01mpandas\u001b[39;00m\u001b[38;5;21;01m.\u001b[39;00m\u001b[38;5;21;01mcompat\u001b[39;00m\u001b[38;5;21;01m.\u001b[39;00m\u001b[38;5;21;01mnumpy\u001b[39;00m \u001b[38;5;28;01mimport\u001b[39;00m is_numpy_dev\n\u001b[1;32m     27\u001b[0m \u001b[38;5;28;01mfrom\u001b[39;00m \u001b[38;5;21;01mpandas\u001b[39;00m\u001b[38;5;21;01m.\u001b[39;00m\u001b[38;5;21;01mcompat\u001b[39;00m\u001b[38;5;21;01m.\u001b[39;00m\u001b[38;5;21;01mpyarrow\u001b[39;00m \u001b[38;5;28;01mimport\u001b[39;00m (\n\u001b[1;32m     28\u001b[0m     pa_version_under10p1,\n\u001b[1;32m     29\u001b[0m     pa_version_under11p0,\n\u001b[0;32m   (...)\u001b[0m\n\u001b[1;32m     32\u001b[0m     pa_version_under14p1,\n\u001b[1;32m     33\u001b[0m )\n",
      "File \u001b[0;32m~/anaconda3/envs/LIGN168v2/lib/python3.11/site-packages/pandas/compat/numpy/__init__.py:6\u001b[0m\n\u001b[1;32m      4\u001b[0m \u001b[38;5;28;01mimport\u001b[39;00m \u001b[38;5;21;01mnumpy\u001b[39;00m \u001b[38;5;28;01mas\u001b[39;00m \u001b[38;5;21;01mnp\u001b[39;00m\n\u001b[0;32m----> 6\u001b[0m \u001b[38;5;28;01mfrom\u001b[39;00m \u001b[38;5;21;01mpandas\u001b[39;00m\u001b[38;5;21;01m.\u001b[39;00m\u001b[38;5;21;01mutil\u001b[39;00m\u001b[38;5;21;01m.\u001b[39;00m\u001b[38;5;21;01mversion\u001b[39;00m \u001b[38;5;28;01mimport\u001b[39;00m Version\n\u001b[1;32m      8\u001b[0m \u001b[38;5;66;03m# numpy versioning\u001b[39;00m\n",
      "\u001b[0;31mImportError\u001b[0m: cannot import name 'Version' from 'pandas.util.version' (unknown location)",
      "\nThe above exception was the direct cause of the following exception:\n",
      "\u001b[0;31mImportError\u001b[0m                               Traceback (most recent call last)",
      "Cell \u001b[0;32mIn[6], line 1\u001b[0m\n\u001b[0;32m----> 1\u001b[0m \u001b[38;5;28;01mimport\u001b[39;00m \u001b[38;5;21;01mpandas\u001b[39;00m \u001b[38;5;28;01mas\u001b[39;00m \u001b[38;5;21;01mpd\u001b[39;00m\n\u001b[1;32m      2\u001b[0m \u001b[38;5;28;01mimport\u001b[39;00m \u001b[38;5;21;01mnumpy\u001b[39;00m \u001b[38;5;28;01mas\u001b[39;00m \u001b[38;5;21;01mnp\u001b[39;00m\n\u001b[1;32m      3\u001b[0m \u001b[38;5;66;03m#import matplotlib.pyplot as plt\u001b[39;00m\n",
      "File \u001b[0;32m~/anaconda3/envs/LIGN168v2/lib/python3.11/site-packages/pandas/__init__.py:31\u001b[0m\n\u001b[1;32m     29\u001b[0m \u001b[38;5;28;01mexcept\u001b[39;00m \u001b[38;5;167;01mImportError\u001b[39;00m \u001b[38;5;28;01mas\u001b[39;00m _err:  \u001b[38;5;66;03m# pragma: no cover\u001b[39;00m\n\u001b[1;32m     30\u001b[0m     _module \u001b[38;5;241m=\u001b[39m _err\u001b[38;5;241m.\u001b[39mname\n\u001b[0;32m---> 31\u001b[0m     \u001b[38;5;28;01mraise\u001b[39;00m \u001b[38;5;167;01mImportError\u001b[39;00m(\n\u001b[1;32m     32\u001b[0m         \u001b[38;5;124mf\u001b[39m\u001b[38;5;124m\"\u001b[39m\u001b[38;5;124mC extension: \u001b[39m\u001b[38;5;132;01m{\u001b[39;00m_module\u001b[38;5;132;01m}\u001b[39;00m\u001b[38;5;124m not built. If you want to import \u001b[39m\u001b[38;5;124m\"\u001b[39m\n\u001b[1;32m     33\u001b[0m         \u001b[38;5;124m\"\u001b[39m\u001b[38;5;124mpandas from the source directory, you may need to run \u001b[39m\u001b[38;5;124m\"\u001b[39m\n\u001b[1;32m     34\u001b[0m         \u001b[38;5;124m\"\u001b[39m\u001b[38;5;124m'\u001b[39m\u001b[38;5;124mpython setup.py build_ext\u001b[39m\u001b[38;5;124m'\u001b[39m\u001b[38;5;124m to build the C extensions first.\u001b[39m\u001b[38;5;124m\"\u001b[39m\n\u001b[1;32m     35\u001b[0m     ) \u001b[38;5;28;01mfrom\u001b[39;00m \u001b[38;5;21;01m_err\u001b[39;00m\n\u001b[1;32m     37\u001b[0m \u001b[38;5;28;01mfrom\u001b[39;00m \u001b[38;5;21;01mpandas\u001b[39;00m\u001b[38;5;21;01m.\u001b[39;00m\u001b[38;5;21;01m_config\u001b[39;00m \u001b[38;5;28;01mimport\u001b[39;00m (\n\u001b[1;32m     38\u001b[0m     get_option,\n\u001b[1;32m     39\u001b[0m     set_option,\n\u001b[0;32m   (...)\u001b[0m\n\u001b[1;32m     43\u001b[0m     options,\n\u001b[1;32m     44\u001b[0m )\n\u001b[1;32m     46\u001b[0m \u001b[38;5;66;03m# let init-time option registration happen\u001b[39;00m\n",
      "\u001b[0;31mImportError\u001b[0m: C extension: pandas.util.version not built. If you want to import pandas from the source directory, you may need to run 'python setup.py build_ext' to build the C extensions first."
     ]
    }
   ],
   "source": [
    "import pandas as pd\n",
    "import numpy as np\n",
    "#import matplotlib.pyplot as plt\n",
    "import tensorflow as tf"
   ]
  },
  {
   "cell_type": "code",
   "execution_count": 5,
   "metadata": {},
   "outputs": [],
   "source": [
    "import os\n",
    "import wave\n",
    "import glob"
   ]
  },
  {
   "cell_type": "code",
   "execution_count": 11,
   "metadata": {},
   "outputs": [],
   "source": [
    "from scipy.io import wavfile\n",
    "from scipy import fft\n",
    "from scipy import signal\n",
    "#from matplotlib import cm\n",
    "import IPython.display as ipd\n",
    "#import matplotlib.pyplot as plt\n",
    "from scipy.fft import fftshift\n",
    "from scipy.spatial.distance import cdist\n",
    "import librosa"
   ]
  },
  {
   "cell_type": "code",
   "execution_count": 4,
   "metadata": {},
   "outputs": [],
   "source": [
    "#import neural models to help with detection \n",
    "\n",
    "from tensorflow import keras\n",
    "from keras import layers\n",
    "from keras import Input\n",
    "from keras.layers import Conv1D, Conv2D, MaxPool1D, MaxPool2D, GlobalAvgPool1D, Dropout, BatchNormalization, Dense, LSTM, Flatten\n",
    "# from keras.optimizers import Adam\n",
    "from keras.callbacks import ModelCheckpoint, LearningRateScheduler, EarlyStopping\n",
    "from keras.regularizers import l2\n",
    "from keras import backend as K"
   ]
  },
  {
   "cell_type": "markdown",
   "metadata": {},
   "source": [
    "## Final Project (Wake-word detection)"
   ]
  },
  {
   "cell_type": "markdown",
   "metadata": {},
   "source": [
    "First, get the .wav files in the folder"
   ]
  },
  {
   "cell_type": "code",
   "execution_count": 13,
   "metadata": {},
   "outputs": [
    {
     "name": "stdout",
     "output_type": "stream",
     "text": [
      "/Users/kerichen/Downloads/Animals/bird/6a27a9bf_nohash_0.wav\n",
      "/Users/kerichen/Downloads/Animals/bird/e77d88fc_nohash_1.wav\n",
      "/Users/kerichen/Downloads/Animals/bird/d9d6559e_nohash_0.wav\n",
      "/Users/kerichen/Downloads/Animals/bird/84bf12ff_nohash_0.wav\n",
      "/Users/kerichen/Downloads/Animals/bird/ae04cdbe_nohash_0.wav\n",
      "/Users/kerichen/Downloads/Animals/bird/00b01445_nohash_0.wav\n",
      "/Users/kerichen/Downloads/Animals/bird/56f78b7e_nohash_0.wav\n",
      "/Users/kerichen/Downloads/Animals/bird/b43c8f2f_nohash_0.wav\n",
      "/Users/kerichen/Downloads/Animals/bird/6272b231_nohash_0.wav\n",
      "/Users/kerichen/Downloads/Animals/bird/988e2f9a_nohash_1.wav\n",
      "/Users/kerichen/Downloads/Animals/bird/d9b50b8b_nohash_2.wav\n",
      "/Users/kerichen/Downloads/Animals/bird/8a28231e_nohash_0.wav\n",
      "/Users/kerichen/Downloads/Animals/bird/92b2bf59_nohash_0.wav\n",
      "/Users/kerichen/Downloads/Animals/bird/4cb874bb_nohash_2.wav\n",
      "/Users/kerichen/Downloads/Animals/bird/881583a6_nohash_0.wav\n",
      "/Users/kerichen/Downloads/Animals/bird/095847e4_nohash_0.wav\n",
      "/Users/kerichen/Downloads/Animals/bird/5f8e50a0_nohash_0.wav\n",
      "/Users/kerichen/Downloads/Animals/bird/ffb86d3c_nohash_0.wav\n",
      "/Users/kerichen/Downloads/Animals/bird/6cf5459b_nohash_0.wav\n",
      "/Users/kerichen/Downloads/Animals/bird/2b42e7a2_nohash_0.wav\n",
      "/Users/kerichen/Downloads/Animals/bird/9d32f10a_nohash_0.wav\n",
      "/Users/kerichen/Downloads/Animals/bird/e71b4ce6_nohash_0.wav\n",
      "/Users/kerichen/Downloads/Animals/bird/541e4079_nohash_1.wav\n",
      "/Users/kerichen/Downloads/Animals/bird/e6e29c47_nohash_0.wav\n",
      "/Users/kerichen/Downloads/Animals/bird/d4082f3e_nohash_0.wav\n",
      "/Users/kerichen/Downloads/Animals/bird/e652590d_nohash_1.wav\n",
      "/Users/kerichen/Downloads/Animals/bird/f88f97a7_nohash_0.wav\n",
      "/Users/kerichen/Downloads/Animals/bird/c103a2d5_nohash_1.wav\n",
      "/Users/kerichen/Downloads/Animals/bird/e04d7130_nohash_0.wav\n",
      "/Users/kerichen/Downloads/Animals/bird/1d1fe0a0_nohash_0.wav\n",
      "/Users/kerichen/Downloads/Animals/bird/402e2977_nohash_1.wav\n",
      "/Users/kerichen/Downloads/Animals/bird/9e2ce5e3_nohash_0.wav\n",
      "/Users/kerichen/Downloads/Animals/bird/1ed557b9_nohash_0.wav\n",
      "/Users/kerichen/Downloads/Animals/bird/638548d5_nohash_2.wav\n",
      "/Users/kerichen/Downloads/Animals/bird/7e783e3f_nohash_0.wav\n",
      "/Users/kerichen/Downloads/Animals/bird/50d1c8e3_nohash_1.wav\n",
      "/Users/kerichen/Downloads/Animals/bird/0b40aa8e_nohash_0.wav\n",
      "/Users/kerichen/Downloads/Animals/bird/a84dee7b_nohash_0.wav\n",
      "/Users/kerichen/Downloads/Animals/bird/c0445658_nohash_0.wav\n",
      "/Users/kerichen/Downloads/Animals/bird/78102205_nohash_0.wav\n",
      "/Users/kerichen/Downloads/Animals/bird/7b2e879e_nohash_0.wav\n",
      "/Users/kerichen/Downloads/Animals/bird/8281a2a8_nohash_0.wav\n",
      "/Users/kerichen/Downloads/Animals/bird/531a5b8a_nohash_0.wav\n",
      "/Users/kerichen/Downloads/Animals/bird/44fb4274_nohash_0.wav\n",
      "/Users/kerichen/Downloads/Animals/bird/4954abe8_nohash_2.wav\n",
      "/Users/kerichen/Downloads/Animals/bird/520b2c17_nohash_0.wav\n",
      "/Users/kerichen/Downloads/Animals/bird/f6af2457_nohash_0.wav\n",
      "/Users/kerichen/Downloads/Animals/bird/6cb6eee7_nohash_0.wav\n",
      "/Users/kerichen/Downloads/Animals/bird/743edf9d_nohash_0.wav\n",
      "/Users/kerichen/Downloads/Animals/bird/a5d485dc_nohash_2.wav\n",
      "/Users/kerichen/Downloads/Animals/bird/de08912f_nohash_0.wav\n",
      "/Users/kerichen/Downloads/Animals/bird/09bcdc9d_nohash_0.wav\n",
      "/Users/kerichen/Downloads/Animals/bird/215699ff_nohash_1.wav\n",
      "/Users/kerichen/Downloads/Animals/bird/ccb1266b_nohash_0.wav\n",
      "/Users/kerichen/Downloads/Animals/bird/4c13fe25_nohash_1.wav\n",
      "/Users/kerichen/Downloads/Animals/bird/f0edc767_nohash_2.wav\n",
      "/Users/kerichen/Downloads/Animals/bird/c661be6e_nohash_0.wav\n",
      "/Users/kerichen/Downloads/Animals/bird/1bc45db9_nohash_1.wav\n",
      "/Users/kerichen/Downloads/Animals/bird/ae927455_nohash_0.wav\n",
      "/Users/kerichen/Downloads/Animals/bird/7f74626f_nohash_0.wav\n",
      "/Users/kerichen/Downloads/Animals/bird/0474c92a_nohash_0.wav\n",
      "/Users/kerichen/Downloads/Animals/bird/c948d727_nohash_0.wav\n",
      "/Users/kerichen/Downloads/Animals/bird/a5d485dc_nohash_0.wav\n",
      "/Users/kerichen/Downloads/Animals/bird/e2008f39_nohash_0.wav\n",
      "/Users/kerichen/Downloads/Animals/bird/8f3f252c_nohash_0.wav\n",
      "/Users/kerichen/Downloads/Animals/bird/750e3e75_nohash_0.wav\n",
      "/Users/kerichen/Downloads/Animals/bird/91cdef62_nohash_1.wav\n",
      "/Users/kerichen/Downloads/Animals/bird/0a7c2a8d_nohash_0.wav\n",
      "/Users/kerichen/Downloads/Animals/bird/e5dadd24_nohash_0.wav\n",
      "/Users/kerichen/Downloads/Animals/bird/b17f5ba0_nohash_1.wav\n",
      "/Users/kerichen/Downloads/Animals/bird/ed3c2d05_nohash_0.wav\n",
      "/Users/kerichen/Downloads/Animals/bird/1bc45db9_nohash_0.wav\n",
      "/Users/kerichen/Downloads/Animals/bird/8549f25d_nohash_0.wav\n",
      "/Users/kerichen/Downloads/Animals/bird/dce5041a_nohash_0.wav\n",
      "/Users/kerichen/Downloads/Animals/bird/3c8836dc_nohash_0.wav\n",
      "/Users/kerichen/Downloads/Animals/bird/00f0204f_nohash_3.wav\n",
      "/Users/kerichen/Downloads/Animals/bird/ab76ac76_nohash_0.wav\n",
      "/Users/kerichen/Downloads/Animals/bird/876c84d6_nohash_0.wav\n",
      "/Users/kerichen/Downloads/Animals/bird/7e1054e7_nohash_2.wav\n",
      "/Users/kerichen/Downloads/Animals/bird/39dce8cc_nohash_0.wav\n",
      "/Users/kerichen/Downloads/Animals/bird/c2d15ea5_nohash_0.wav\n",
      "/Users/kerichen/Downloads/Animals/bird/6a014b29_nohash_1.wav\n",
      "/Users/kerichen/Downloads/Animals/bird/73cccfaf_nohash_1.wav\n",
      "/Users/kerichen/Downloads/Animals/bird/f839238a_nohash_1.wav\n",
      "/Users/kerichen/Downloads/Animals/bird/ab76ac76_nohash_1.wav\n",
      "/Users/kerichen/Downloads/Animals/bird/29fb33da_nohash_0.wav\n",
      "/Users/kerichen/Downloads/Animals/bird/7910d292_nohash_0.wav\n",
      "/Users/kerichen/Downloads/Animals/bird/44dad20e_nohash_0.wav\n",
      "/Users/kerichen/Downloads/Animals/bird/4f5c0b28_nohash_1.wav\n",
      "/Users/kerichen/Downloads/Animals/bird/48a8a69d_nohash_2.wav\n",
      "/Users/kerichen/Downloads/Animals/bird/31270cb2_nohash_0.wav\n",
      "/Users/kerichen/Downloads/Animals/bird/7cfb1618_nohash_1.wav\n",
      "/Users/kerichen/Downloads/Animals/bird/d069e6ff_nohash_1.wav\n",
      "/Users/kerichen/Downloads/Animals/bird/da7689f1_nohash_0.wav\n",
      "/Users/kerichen/Downloads/Animals/bird/e0322f2c_nohash_0.wav\n",
      "/Users/kerichen/Downloads/Animals/bird/9f869f70_nohash_1.wav\n",
      "/Users/kerichen/Downloads/Animals/bird/4f5c0b28_nohash_0.wav\n",
      "/Users/kerichen/Downloads/Animals/bird/00f0204f_nohash_1.wav\n",
      "/Users/kerichen/Downloads/Animals/bird/a4b21cbc_nohash_1.wav\n",
      "/Users/kerichen/Downloads/Animals/bird/3ca784ec_nohash_0.wav\n",
      "/Users/kerichen/Downloads/Animals/bird/b6091c84_nohash_0.wav\n",
      "/Users/kerichen/Downloads/Animals/bird/ee4a907f_nohash_0.wav\n",
      "/Users/kerichen/Downloads/Animals/bird/3565ca83_nohash_0.wav\n",
      "/Users/kerichen/Downloads/Animals/bird/aa109cfb_nohash_0.wav\n",
      "/Users/kerichen/Downloads/Animals/bird/caf1803e_nohash_0.wav\n",
      "/Users/kerichen/Downloads/Animals/bird/5744b6a7_nohash_0.wav\n",
      "/Users/kerichen/Downloads/Animals/bird/0f7dc557_nohash_0.wav\n",
      "/Users/kerichen/Downloads/Animals/bird/1942abd7_nohash_0.wav\n",
      "/Users/kerichen/Downloads/Animals/bird/01bcfc0c_nohash_1.wav\n",
      "/Users/kerichen/Downloads/Animals/bird/3e31dffe_nohash_0.wav\n",
      "/Users/kerichen/Downloads/Animals/bird/59c3a7f2_nohash_2.wav\n",
      "/Users/kerichen/Downloads/Animals/bird/a8cf01bc_nohash_0.wav\n",
      "/Users/kerichen/Downloads/Animals/bird/f42e234b_nohash_0.wav\n",
      "/Users/kerichen/Downloads/Animals/bird/6b889021_nohash_1.wav\n",
      "/Users/kerichen/Downloads/Animals/bird/214ccb20_nohash_0.wav\n",
      "/Users/kerichen/Downloads/Animals/bird/b9db6e42_nohash_0.wav\n",
      "/Users/kerichen/Downloads/Animals/bird/d8521ea0_nohash_0.wav\n",
      "/Users/kerichen/Downloads/Animals/bird/12c206ea_nohash_0.wav\n",
      "/Users/kerichen/Downloads/Animals/bird/44715c1c_nohash_0.wav\n",
      "/Users/kerichen/Downloads/Animals/bird/43691f67_nohash_1.wav\n",
      "/Users/kerichen/Downloads/Animals/bird/214ccb20_nohash_1.wav\n",
      "/Users/kerichen/Downloads/Animals/bird/bf70feda_nohash_0.wav\n",
      "/Users/kerichen/Downloads/Animals/bird/659b7fae_nohash_2.wav\n",
      "/Users/kerichen/Downloads/Animals/bird/edd8bfe3_nohash_0.wav\n",
      "/Users/kerichen/Downloads/Animals/bird/ffa76c4a_nohash_0.wav\n",
      "/Users/kerichen/Downloads/Animals/bird/72aa7259_nohash_0.wav\n",
      "/Users/kerichen/Downloads/Animals/bird/43691f67_nohash_4.wav\n",
      "/Users/kerichen/Downloads/Animals/bird/096456f9_nohash_0.wav\n",
      "/Users/kerichen/Downloads/Animals/bird/f5733968_nohash_0.wav\n",
      "/Users/kerichen/Downloads/Animals/bird/0b56bcfe_nohash_0.wav\n",
      "/Users/kerichen/Downloads/Animals/bird/cdbd6969_nohash_1.wav\n",
      "/Users/kerichen/Downloads/Animals/bird/cd85758f_nohash_0.wav\n",
      "/Users/kerichen/Downloads/Animals/bird/257e17e0_nohash_0.wav\n",
      "/Users/kerichen/Downloads/Animals/bird/529eda42_nohash_1.wav\n",
      "/Users/kerichen/Downloads/Animals/bird/6e2ef3d5_nohash_1.wav\n",
      "/Users/kerichen/Downloads/Animals/bird/65d81c54_nohash_0.wav\n",
      "/Users/kerichen/Downloads/Animals/bird/78622c2b_nohash_0.wav\n",
      "/Users/kerichen/Downloads/Animals/bird/650daf8e_nohash_0.wav\n",
      "/Users/kerichen/Downloads/Animals/bird/34881b10_nohash_0.wav\n",
      "/Users/kerichen/Downloads/Animals/bird/be7a5b2d_nohash_0.wav\n",
      "/Users/kerichen/Downloads/Animals/bird/d8c52371_nohash_1.wav\n",
      "/Users/kerichen/Downloads/Animals/bird/422d3197_nohash_0.wav\n",
      "/Users/kerichen/Downloads/Animals/bird/650daf8e_nohash_1.wav\n",
      "/Users/kerichen/Downloads/Animals/bird/626e323f_nohash_1.wav\n",
      "/Users/kerichen/Downloads/Animals/bird/4f781a59_nohash_1.wav\n",
      "/Users/kerichen/Downloads/Animals/bird/1a6eca98_nohash_0.wav\n",
      "/Users/kerichen/Downloads/Animals/bird/5c39594f_nohash_0.wav\n",
      "/Users/kerichen/Downloads/Animals/bird/7add4c5f_nohash_0.wav\n",
      "/Users/kerichen/Downloads/Animals/bird/d53e25ba_nohash_0.wav\n",
      "/Users/kerichen/Downloads/Animals/bird/aa233654_nohash_0.wav\n",
      "/Users/kerichen/Downloads/Animals/bird/5828dfa2_nohash_0.wav\n",
      "/Users/kerichen/Downloads/Animals/bird/92a9c5e6_nohash_0.wav\n",
      "/Users/kerichen/Downloads/Animals/bird/97f493b9_nohash_0.wav\n",
      "/Users/kerichen/Downloads/Animals/bird/13199b79_nohash_1.wav\n",
      "/Users/kerichen/Downloads/Animals/bird/1b4c9b89_nohash_0.wav\n",
      "/Users/kerichen/Downloads/Animals/bird/ceaadb24_nohash_0.wav\n",
      "/Users/kerichen/Downloads/Animals/bird/f6617a86_nohash_0.wav\n",
      "/Users/kerichen/Downloads/Animals/bird/c53b335a_nohash_0.wav\n",
      "/Users/kerichen/Downloads/Animals/bird/7bae88ed_nohash_0.wav\n",
      "/Users/kerichen/Downloads/Animals/bird/9f6fbdb4_nohash_0.wav\n",
      "/Users/kerichen/Downloads/Animals/bird/96c66ab7_nohash_0.wav\n",
      "/Users/kerichen/Downloads/Animals/bird/64da5281_nohash_1.wav\n",
      "/Users/kerichen/Downloads/Animals/bird/f804cbb3_nohash_0.wav\n",
      "/Users/kerichen/Downloads/Animals/bird/27b03931_nohash_0.wav\n",
      "/Users/kerichen/Downloads/Animals/bird/0bde966a_nohash_0.wav\n",
      "/Users/kerichen/Downloads/Animals/bird/64da5281_nohash_0.wav\n",
      "/Users/kerichen/Downloads/Animals/bird/e55a2b20_nohash_0.wav\n",
      "/Users/kerichen/Downloads/Animals/bird/f6581345_nohash_1.wav\n",
      "/Users/kerichen/Downloads/Animals/bird/7bae88ed_nohash_1.wav\n",
      "/Users/kerichen/Downloads/Animals/bird/73f0c1f7_nohash_0.wav\n",
      "/Users/kerichen/Downloads/Animals/bird/30a09789_nohash_1.wav\n",
      "/Users/kerichen/Downloads/Animals/bird/e32ff49d_nohash_0.wav\n",
      "/Users/kerichen/Downloads/Animals/bird/01648c51_nohash_0.wav\n",
      "/Users/kerichen/Downloads/Animals/bird/2296b1af_nohash_1.wav\n",
      "/Users/kerichen/Downloads/Animals/bird/61a9f72a_nohash_0.wav\n",
      "/Users/kerichen/Downloads/Animals/bird/cce17a61_nohash_1.wav\n",
      "/Users/kerichen/Downloads/Animals/bird/1f3bece8_nohash_0.wav\n",
      "/Users/kerichen/Downloads/Animals/bird/31267b59_nohash_0.wav\n",
      "/Users/kerichen/Downloads/Animals/bird/b97c9f77_nohash_0.wav\n",
      "/Users/kerichen/Downloads/Animals/bird/24c9f572_nohash_1.wav\n",
      "/Users/kerichen/Downloads/Animals/bird/af7a8296_nohash_0.wav\n",
      "/Users/kerichen/Downloads/Animals/bird/a60a09cf_nohash_0.wav\n",
      "/Users/kerichen/Downloads/Animals/bird/b7a0754f_nohash_0.wav\n",
      "/Users/kerichen/Downloads/Animals/bird/f1d36c53_nohash_0.wav\n",
      "/Users/kerichen/Downloads/Animals/bird/28ed6bc9_nohash_0.wav\n",
      "/Users/kerichen/Downloads/Animals/bird/270bfa52_nohash_0.wav\n",
      "/Users/kerichen/Downloads/Animals/bird/a0f93943_nohash_1.wav\n",
      "/Users/kerichen/Downloads/Animals/bird/7c75a504_nohash_0.wav\n",
      "/Users/kerichen/Downloads/Animals/bird/b71ebf79_nohash_1.wav\n",
      "/Users/kerichen/Downloads/Animals/bird/ead2934a_nohash_0.wav\n",
      "/Users/kerichen/Downloads/Animals/bird/7799c9cd_nohash_0.wav\n",
      "/Users/kerichen/Downloads/Animals/bird/2c7c33e8_nohash_0.wav\n",
      "/Users/kerichen/Downloads/Animals/bird/540d8427_nohash_0.wav\n"
     ]
    }
   ],
   "source": [
    "# Specify the folder containing the .wav files\n",
    "folder_path = '/Users/kerichen/Downloads/Animals/bird'\n",
    "\n",
    "# Use glob to find all .wav files in the folder\n",
    "bird_files = glob.glob(os.path.join(folder_path, '*.wav'))\n",
    "\n",
    "# Iterate through the list of .wav files\n",
    "for bird_file in bird_files:\n",
    "    # Open the .wav file\n",
    "    with wave.open(bird_file, 'rb') as wav_obj:\n",
    "        # Extract and print some properties of the .wav file\n",
    "       # print(f\"Processing file: {wav_file}\")\n",
    "       # print(f\"Number of channels: {wav_obj.getnchannels()}\")\n",
    "       # print(f\"Sample width (bytes): {wav_obj.getsampwidth()}\")\n",
    "       # print(f\"Frame rate (sample rate): {wav_obj.getframerate()}\")\n",
    "       # print(f\"Number of frames: {wav_obj.getnframes()}\")\n",
    "       # print(f\"Compression type: {wav_obj.getcomptype()}\")\n",
    "       # print(f\"Compression name: {wav_obj.getcompname()}\")\n",
    "       # print(\"\\n\")\n",
    "\n",
    "        print (bird_file)"
   ]
  },
  {
   "cell_type": "markdown",
   "metadata": {},
   "source": [
    "Next, we will extract the features from each of the folders with the phrases"
   ]
  },
  {
   "cell_type": "code",
   "execution_count": 14,
   "metadata": {},
   "outputs": [
    {
     "data": {
      "text/plain": [
       "(array([-0.00014037,  0.00117776, -0.00058977, ...,  0.00038463,\n",
       "         0.00082914,  0.00069896], dtype=float32),\n",
       " 22050)"
      ]
     },
     "execution_count": 14,
     "metadata": {},
     "output_type": "execute_result"
    }
   ],
   "source": [
    "librosa.load('/Users/kerichen/Downloads/Animals/bird/0a7c2a8d_nohash_0.wav')"
   ]
  },
  {
   "cell_type": "code",
   "execution_count": 15,
   "metadata": {},
   "outputs": [],
   "source": [
    "def get_features(files):\n",
    "    X = []\n",
    "    spectrograms = []\n",
    "    mel_spectrograms = []\n",
    "    mfccs = []\n",
    "\n",
    "    for file in files:\n",
    "        wav, sr = librosa.load(file, sr=None)\n",
    "\n",
    "        spectrogram = np.abs(librosa.stft(wav))\n",
    "\n",
    "        mel_spectrogram = librosa.feature.melspectrogram(y=wav, sr=sr)\n",
    "\n",
    "        mfcc = librosa.feature.mfcc(y=wav, sr=sr)\n",
    "\n",
    "        X.append(wav)\n",
    "        spectrograms.append(spectrogram)\n",
    "        mel_spectrograms.append(mel_spectrogram)\n",
    "        mfccs.append(mfcc)\n",
    "        \n",
    "    # Pad sequences to ensure consistent shape for batch processing\n",
    "    max_length = max(map(len, X))\n",
    "    X = np.array([np.pad(x, (0, max_length - len(x)), 'constant') for x in X])\n",
    "\n",
    "    # Ensure spectrogram, mel spectrogram, and MFCC have the same shape\n",
    "    spectrograms = np.array([np.pad(s, ((0, 0), (0, max_length - s.shape[1])), 'constant') for s in spectrograms])\n",
    "    mel_spectrograms = np.array([np.pad(m, ((0, 0), (0, max_length - m.shape[1])), 'constant') for m in mel_spectrograms])\n",
    "    mfccs = np.array([np.pad(m, ((0, 0), (0, max_length - m.shape[1])), 'constant') for m in mfccs])\n",
    "    \n",
    "    return X, spectrograms, mel_spectrograms, mfccs"
   ]
  },
  {
   "cell_type": "code",
   "execution_count": 16,
   "metadata": {},
   "outputs": [],
   "source": [
    "x_data_bird, spectrograms_bird, mel_spectrograms_bird, mfcss_bird = get_features(bird_files)"
   ]
  },
  {
   "cell_type": "code",
   "execution_count": 17,
   "metadata": {},
   "outputs": [
    {
     "ename": "NameError",
     "evalue": "name 'plt' is not defined",
     "output_type": "error",
     "traceback": [
      "\u001b[0;31m---------------------------------------------------------------------------\u001b[0m",
      "\u001b[0;31mNameError\u001b[0m                                 Traceback (most recent call last)",
      "Cell \u001b[0;32mIn[17], line 4\u001b[0m\n\u001b[1;32m      1\u001b[0m D \u001b[38;5;241m=\u001b[39m librosa\u001b[38;5;241m.\u001b[39mamplitude_to_db(np\u001b[38;5;241m.\u001b[39mabs(librosa\u001b[38;5;241m.\u001b[39mstft(x_data_bird[\u001b[38;5;241m0\u001b[39m])), ref\u001b[38;5;241m=\u001b[39mnp\u001b[38;5;241m.\u001b[39mmax)\n\u001b[0;32m----> 4\u001b[0m \u001b[43mplt\u001b[49m\u001b[38;5;241m.\u001b[39mfigure(figsize \u001b[38;5;241m=\u001b[39m (\u001b[38;5;241m10\u001b[39m, \u001b[38;5;241m6\u001b[39m))\n\u001b[1;32m      5\u001b[0m librosa\u001b[38;5;241m.\u001b[39mdisplay\u001b[38;5;241m.\u001b[39mspecshow(D, y_axis\u001b[38;5;241m=\u001b[39m\u001b[38;5;124m'\u001b[39m\u001b[38;5;124mlog\u001b[39m\u001b[38;5;124m'\u001b[39m)\n\u001b[1;32m      6\u001b[0m plt\u001b[38;5;241m.\u001b[39mcolorbar(\u001b[38;5;28mformat\u001b[39m\u001b[38;5;241m=\u001b[39m\u001b[38;5;124m'\u001b[39m\u001b[38;5;132;01m%+2.0f\u001b[39;00m\u001b[38;5;124m dB\u001b[39m\u001b[38;5;124m'\u001b[39m)\n",
      "\u001b[0;31mNameError\u001b[0m: name 'plt' is not defined"
     ]
    }
   ],
   "source": [
    "D = librosa.amplitude_to_db(np.abs(librosa.stft(x_data_bird[0])), ref=np.max)\n",
    "\n",
    "\n",
    "plt.figure(figsize = (10, 6))\n",
    "librosa.display.specshow(D, y_axis='log')\n",
    "plt.colorbar(format='%+2.0f dB')\n",
    "plt.title('Spectrogram');"
   ]
  },
  {
   "cell_type": "code",
   "execution_count": 18,
   "metadata": {},
   "outputs": [],
   "source": [
    "# Specify the folder containing the .wav files\n",
    "folder_path = '/Users/kerichen/Downloads/Animals/cat'\n",
    "\n",
    "# Use glob to find all .wav files in the folder\n",
    "cat_files = glob.glob(os.path.join(folder_path, '*.wav'))\n",
    "\n",
    "# Iterate through the list of .wav files\n",
    "#for cat_file in cat_files:\n",
    "    # Open the .wav file\n",
    "    #with wave.open(cat_file, 'rb') as wav_obj:\n",
    "        # Extract and print some properties of the .wav file\n",
    "       # print(f\"Processing file: {wav_file}\")\n",
    "       # print(f\"Number of channels: {wav_obj.getnchannels()}\")\n",
    "       # print(f\"Sample width (bytes): {wav_obj.getsampwidth()}\")\n",
    "       # print(f\"Frame rate (sample rate): {wav_obj.getframerate()}\")\n",
    "       # print(f\"Number of frames: {wav_obj.getnframes()}\")\n",
    "       # print(f\"Compression type: {wav_obj.getcomptype()}\")\n",
    "       # print(f\"Compression name: {wav_obj.getcompname()}\")\n",
    "       # print(\"\\n\")\n",
    "\n",
    "       #print (cat_file)"
   ]
  },
  {
   "cell_type": "code",
   "execution_count": 19,
   "metadata": {},
   "outputs": [
    {
     "ename": "",
     "evalue": "",
     "output_type": "error",
     "traceback": [
      "\u001b[1;31mThe Kernel crashed while executing code in the current cell or a previous cell. \n",
      "\u001b[1;31mPlease review the code in the cell(s) to identify a possible cause of the failure. \n",
      "\u001b[1;31mClick <a href='https://aka.ms/vscodeJupyterKernelCrash'>here</a> for more info. \n",
      "\u001b[1;31mView Jupyter <a href='command:jupyter.viewOutput'>log</a> for further details."
     ]
    }
   ],
   "source": [
    "x_data_cat, spectrograms_cat, mel_spectrograms_cat, mfcss_cat = get_features(cat_files)"
   ]
  },
  {
   "cell_type": "code",
   "execution_count": 14,
   "metadata": {},
   "outputs": [],
   "source": [
    "# Specify the folder containing the .wav files\n",
    "folder_path = '/Users/kerichen/Downloads/Animals/dog'\n",
    "\n",
    "# Use glob to find all .wav files in the folder\n",
    "dog_files = glob.glob(os.path.join(folder_path, '*.wav'))\n",
    "\n",
    "# Iterate through the list of .wav files\n",
    "#for dog_file in dog_files:\n",
    "    # Open the .wav file\n",
    " #   with wave.open(dog_file, 'rb') as wav_obj:\n",
    "        # Extract and print some properties of the .wav file\n",
    "       # print(f\"Processing file: {wav_file}\")\n",
    "       # print(f\"Number of channels: {wav_obj.getnchannels()}\")\n",
    "       # print(f\"Sample width (bytes): {wav_obj.getsampwidth()}\")\n",
    "       # print(f\"Frame rate (sample rate): {wav_obj.getframerate()}\")\n",
    "       # print(f\"Number of frames: {wav_obj.getnframes()}\")\n",
    "       # print(f\"Compression type: {wav_obj.getcomptype()}\")\n",
    "       # print(f\"Compression name: {wav_obj.getcompname()}\")\n",
    "       # print(\"\\n\")\n",
    "\n",
    "      #  print (dog_file)"
   ]
  },
  {
   "cell_type": "code",
   "execution_count": 15,
   "metadata": {},
   "outputs": [
    {
     "ename": "",
     "evalue": "",
     "output_type": "error",
     "traceback": [
      "\u001b[1;31mThe Kernel crashed while executing code in the current cell or a previous cell. \n",
      "\u001b[1;31mPlease review the code in the cell(s) to identify a possible cause of the failure. \n",
      "\u001b[1;31mClick <a href='https://aka.ms/vscodeJupyterKernelCrash'>here</a> for more info. \n",
      "\u001b[1;31mView Jupyter <a href='command:jupyter.viewOutput'>log</a> for further details."
     ]
    }
   ],
   "source": [
    "x_data_dog, spectrograms_dog, mel_spectrograms_dog, mfcss_dog = get_features(dog_files)"
   ]
  },
  {
   "cell_type": "code",
   "execution_count": null,
   "metadata": {},
   "outputs": [],
   "source": []
  }
 ],
 "metadata": {
  "kernelspec": {
   "display_name": "base",
   "language": "python",
   "name": "python3"
  },
  "language_info": {
   "codemirror_mode": {
    "name": "ipython",
    "version": 3
   },
   "file_extension": ".py",
   "mimetype": "text/x-python",
   "name": "python",
   "nbconvert_exporter": "python",
   "pygments_lexer": "ipython3",
   "version": "3.11.5"
  }
 },
 "nbformat": 4,
 "nbformat_minor": 2
}
